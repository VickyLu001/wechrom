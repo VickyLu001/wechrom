{
 "cells": [
  {
   "cell_type": "code",
   "execution_count": 15,
   "metadata": {},
   "outputs": [],
   "source": [
    "import wechrom\n"
   ]
  },
  {
   "cell_type": "markdown",
   "metadata": {},
   "source": [
    "Initialize the nucleosome system with a pdbx file we prepared with 147 bp wrapped DNA, 38 bp linker DNA on each end and a histone core particle. This cif file also includes two virtual sites at the two ends for external force illustration. "
   ]
  },
  {
   "cell_type": "code",
   "execution_count": 5,
   "metadata": {},
   "outputs": [],
   "source": [
    "nuc_223bp = wechrom.SingleNucleoSystem(\"singleN_L38_endvs.cif\", verbose = True)"
   ]
  },
  {
   "cell_type": "markdown",
   "metadata": {},
   "source": [
    "Apply default forces designed for wechrom"
   ]
  },
  {
   "cell_type": "code",
   "execution_count": 6,
   "metadata": {},
   "outputs": [
    {
     "name": "stdout",
     "output_type": "stream",
     "text": [
      "Building connectivity terms...... done\n",
      "Building excluded volume force...... done\n",
      "Preparing the associative memory files...... done\n",
      "Building DNA intra-strand associative memory force...... done\n",
      "Building DNA inter-strand associative memory force...... done\n",
      "Preparing the nucleosome associative memory files...... done\n",
      "Building nucleosome center associative memory force...... done\n",
      "Building nucleosome neighbor associative memory force...... done\n"
     ]
    }
   ],
   "source": [
    "nuc_223bp.addDefaultForces()"
   ]
  },
  {
   "cell_type": "markdown",
   "metadata": {},
   "source": [
    "Here we provide an example of applying external force to the system. The desired external force is to pull the two ends apart in x direction. You may use any force supported by openmm"
   ]
  },
  {
   "cell_type": "code",
   "execution_count": 8,
   "metadata": {},
   "outputs": [],
   "source": [
    "from openmm import CustomExternalForce\n",
    "\n",
    "def stretch_term(we, k_stretching=2.0, forceDirect=\"x\", appliedSite=0):\n",
    "    stretching = CustomExternalForce(f\"({k_stretching})*({forceDirect})\")\n",
    "    stretching.addParticle(we.virtualSites[appliedSite])\n",
    "    return stretching\n",
    "\n",
    "nuc_223bp.addForce(stretch_term(nuc_223bp, forceDirect=\"x\", appliedSite=0), \"pull_h\")\n",
    "nuc_223bp.addForce(stretch_term(nuc_223bp, forceDirect=\"-x\", appliedSite=-1), \"pull_t\")"
   ]
  },
  {
   "cell_type": "markdown",
   "metadata": {},
   "source": [
    "Initialize the simulation with default integrator and wechrom topology"
   ]
  },
  {
   "cell_type": "code",
   "execution_count": 9,
   "metadata": {},
   "outputs": [
    {
     "name": "stdout",
     "output_type": "stream",
     "text": [
      "Langevin integrator and simulation initialized\n"
     ]
    }
   ],
   "source": [
    "nuc_223bp.initializeSimulation(platform='CUDA')"
   ]
  },
  {
   "cell_type": "markdown",
   "metadata": {},
   "source": [
    "Here we provide an example of adding a pdb reporter to the simulation"
   ]
  },
  {
   "cell_type": "code",
   "execution_count": 13,
   "metadata": {},
   "outputs": [],
   "source": [
    "from openmm.app import PDBReporter # openmm version >= 7.6\n",
    "# from simtk.openmm.app import PDBReporter # openmm version < 7.6\n",
    "steps = 1e3\n",
    "reportFreq = 1e1\n",
    "nuc_223bp.simulation.reporters.append(PDBReporter(\"./movie.pdb\", reportFreq))"
   ]
  },
  {
   "cell_type": "markdown",
   "metadata": {},
   "source": [
    "Run the simulation"
   ]
  },
  {
   "cell_type": "code",
   "execution_count": 14,
   "metadata": {},
   "outputs": [
    {
     "name": "stdout",
     "output_type": "stream",
     "text": [
      "Simulation will take 1000 steps and get reported every 10 steps\n",
      "----------------Simulation Starts----------------\n"
     ]
    },
    {
     "name": "stderr",
     "output_type": "stream",
     "text": [
      "100%|██████████| 100/100 [00:02<00:00, 38.37it/s]"
     ]
    },
    {
     "name": "stdout",
     "output_type": "stream",
     "text": [
      "\n",
      "Simulation done.\n",
      "Please check your trajectory file movie.dcd, energy file energy.txt at your output directory d:\\wechrom\\wechrom_private\\examples\\nucleosome_223bp\n"
     ]
    },
    {
     "name": "stderr",
     "output_type": "stream",
     "text": [
      "\n"
     ]
    }
   ],
   "source": [
    "nuc_223bp.runSteps(steps = steps, reportFreq = reportFreq)"
   ]
  },
  {
   "cell_type": "code",
   "execution_count": null,
   "metadata": {},
   "outputs": [],
   "source": []
  }
 ],
 "metadata": {
  "interpreter": {
   "hash": "37b255bb5dc0d995b91bd1b934b878e610a26475f52eafaf29fdb395fb105534"
  },
  "kernelspec": {
   "display_name": "Python 3 (ipykernel)",
   "language": "python",
   "name": "python3"
  },
  "language_info": {
   "codemirror_mode": {
    "name": "ipython",
    "version": 3
   },
   "file_extension": ".py",
   "mimetype": "text/x-python",
   "name": "python",
   "nbconvert_exporter": "python",
   "pygments_lexer": "ipython3",
   "version": "3.7.11"
  },
  "orig_nbformat": 4
 },
 "nbformat": 4,
 "nbformat_minor": 2
}
